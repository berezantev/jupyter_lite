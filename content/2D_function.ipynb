{
 "cells": [
  {
   "cell_type": "code",
   "execution_count": 20,
   "id": "72050028",
   "metadata": {},
   "outputs": [
    {
     "data": {
      "application/vnd.jupyter.widget-view+json": {
       "model_id": "7622be9471844fa99fd3a708a76c1400",
       "version_major": 2,
       "version_minor": 0
      },
      "text/plain": [
       "interactive(children=(FloatSlider(value=-2.0, description='x', max=4.0, min=-2.0), Output()), _dom_classes=('w…"
      ]
     },
     "metadata": {},
     "output_type": "display_data"
    },
    {
     "data": {
      "text/html": [
       "<script>\n",
       "$('div.input').hide();\n",
       "</script>\n"
      ],
      "text/plain": [
       "<IPython.core.display.HTML object>"
      ]
     },
     "execution_count": 20,
     "metadata": {},
     "output_type": "execute_result"
    }
   ],
   "source": [
    "import pandas as pd\n",
    "import numpy as np\n",
    "\n",
    "import matplotlib.pyplot as plt\n",
    "import ipywidgets as widgets\n",
    "\n",
    "%matplotlib widget\n",
    "%matplotlib inline\n",
    "from matplotlib import cm\n",
    "from matplotlib.ticker import LinearLocator\n",
    "from IPython.display import HTML\n",
    "\n",
    "N=0.1\n",
    "x_range = np.linspace(-4, 6)\n",
    "\n",
    "def f(x):\n",
    "    return (x-1.5)**2\n",
    "\n",
    "\n",
    "@widgets.interact(x=(-2, 4, N))\n",
    "def create_scatter(x=-2):\n",
    "    fig, ax = plt.subplots(figsize=(5,7))\n",
    "\n",
    "    # Plot the surface.\n",
    "    surf = plt.plot(x_range, [f(x) for x in x_range], zorder=1)\n",
    "    \n",
    "    plt.scatter(x, f(x), c=\"red\", zorder=2)\n",
    "\n",
    "    plt.ylim(-1, 20)\n",
    "   \n",
    "    \n",
    "    plt.title(\"x=%.2f, f(x)=%.2f\"%(x, f(x)))\n",
    "\n",
    "HTML('''<script>\n",
    "$('div.input').hide();\n",
    "</script>\n",
    "''')\n"
   ]
  },
  {
   "cell_type": "code",
   "execution_count": 3,
   "id": "a2dc0ae8",
   "metadata": {},
   "outputs": [],
   "source": [
    "# Define the function that we are interested in\n",
    "def sixhump(x, y):\n",
    "    return ((4 - 2.1*x**2 + x**4 / 3.) * x**2 + x * y\n",
    "            + (-4 + 4*y**2) )\n",
    "\n",
    "x = np.linspace(-2, 2)\n",
    "y = np.linspace(-1, 1)\n",
    "xg, yg = np.meshgrid(x, y)"
   ]
  },
  {
   "cell_type": "code",
   "execution_count": null,
   "id": "198c2cab",
   "metadata": {},
   "outputs": [],
   "source": []
  },
  {
   "cell_type": "code",
   "execution_count": null,
   "id": "1b5c03c9",
   "metadata": {},
   "outputs": [],
   "source": []
  }
 ],
 "metadata": {
  "kernelspec": {
   "display_name": "Python 3 (ipykernel)",
   "language": "python",
   "name": "python3"
  },
  "language_info": {
   "codemirror_mode": {
    "name": "ipython",
    "version": 3
   },
   "file_extension": ".py",
   "mimetype": "text/x-python",
   "name": "python",
   "nbconvert_exporter": "python",
   "pygments_lexer": "ipython3",
   "version": "3.9.0"
  }
 },
 "nbformat": 4,
 "nbformat_minor": 5
}
