{
  "metadata": {
    "language_info": {
      "codemirror_mode": {
        "name": "python",
        "version": 3
      },
      "file_extension": ".py",
      "mimetype": "text/x-python",
      "name": "python",
      "nbconvert_exporter": "python",
      "pygments_lexer": "ipython3",
      "version": "3.8"
    },
    "kernelspec": {
      "name": "python",
      "display_name": "Python (Pyodide)",
      "language": "python"
    }
  },
  "nbformat_minor": 4,
  "nbformat": 4,
  "cells": [
    {
      "cell_type": "code",
      "source": "import numpy as np\nimport matplotlib.pyplot as plt\nimport piplite\nawait piplite.install(\"ipywidgets\")\nawait piplite.install(\"ipympl\")\nimport ipywidgets as widgets\n%matplotlib widget\n%matplotlib inline\nfrom matplotlib import cm\n\n# Define the function that we are interested in\ndef sixhump(x, y):\n    return ((4 - 2.1*x**2 + x**4 / 3.) * x**2 + x * y\n            + (-4 + 4*y**2) )\n\nx = np.linspace(-2, 2)\ny = np.linspace(-1, 1)\nxg, yg = np.meshgrid(x, y)\n\nN=0.1\n@widgets.interact(x=(-2, 2, N), y=(-1, 1, N))\ndef create_scatter(x=-2, y=-1):\n    \n    \n    fig, ax = plt.subplots(subplot_kw={\"projection\": \"3d\"}, figsize=(4,4))\n\n    # Plot the surface.\n    surf = ax.plot_surface(xg, yg, sixhump(xg, yg), cmap=cm.coolwarm,\n                           linewidth=0, antialiased=False, alpha=0.4, zorder=1)\n\n    ax.scatter(x, y, sixhump(x, y), s=60, c=\"red\", zorder=2)\n\n    # rotate the axes and update\n\n    ax.view_init(15,120)\n    \n    plt.title(\"x=%.2f, y=%.2f, f(x,y)=%.2f\"%(x, y, sixhump(x, y)))\n\n    plt.show()",
      "metadata": {
        "trusted": true
      },
      "execution_count": 5,
      "outputs": [
        {
          "output_type": "display_data",
          "data": {
            "text/plain": "interactive(children=(FloatSlider(value=-2.0, description='x', max=2.0, min=-2.0), FloatSlider(value=-1.0, des…",
            "application/vnd.jupyter.widget-view+json": {
              "version_major": 2,
              "version_minor": 0,
              "model_id": "442155bb93fb426f8119141d6e641133"
            }
          },
          "metadata": {}
        }
      ]
    },
    {
      "cell_type": "code",
      "source": "",
      "metadata": {},
      "execution_count": null,
      "outputs": []
    }
  ]
}