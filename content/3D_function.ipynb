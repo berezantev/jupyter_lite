{
 "cells": [
  {
   "cell_type": "code",
   "execution_count": 1,
   "id": "c3a27fdc",
   "metadata": {},
   "outputs": [
    {
     "ename": "ModuleNotFoundError",
     "evalue": "No module named 'piplite'",
     "output_type": "error",
     "traceback": [
      "\u001b[0;31m---------------------------------------------------------------------------\u001b[0m",
      "\u001b[0;31mModuleNotFoundError\u001b[0m                       Traceback (most recent call last)",
      "\u001b[0;32m/var/folders/dk/j09pwzds1jj5cpzj1wc5y_r00000gn/T/ipykernel_1673/1246520976.py\u001b[0m in \u001b[0;36m<module>\u001b[0;34m\u001b[0m\n\u001b[1;32m      1\u001b[0m \u001b[0;32mimport\u001b[0m \u001b[0mnumpy\u001b[0m \u001b[0;32mas\u001b[0m \u001b[0mnp\u001b[0m\u001b[0;34m\u001b[0m\u001b[0;34m\u001b[0m\u001b[0m\n\u001b[1;32m      2\u001b[0m \u001b[0;32mimport\u001b[0m \u001b[0mmatplotlib\u001b[0m\u001b[0;34m.\u001b[0m\u001b[0mpyplot\u001b[0m \u001b[0;32mas\u001b[0m \u001b[0mplt\u001b[0m\u001b[0;34m\u001b[0m\u001b[0;34m\u001b[0m\u001b[0m\n\u001b[0;32m----> 3\u001b[0;31m \u001b[0;32mimport\u001b[0m \u001b[0mpiplite\u001b[0m\u001b[0;34m\u001b[0m\u001b[0;34m\u001b[0m\u001b[0m\n\u001b[0m\u001b[1;32m      4\u001b[0m \u001b[0;32mawait\u001b[0m \u001b[0mpiplite\u001b[0m\u001b[0;34m.\u001b[0m\u001b[0minstall\u001b[0m\u001b[0;34m(\u001b[0m\u001b[0;34m\"ipywidgets\"\u001b[0m\u001b[0;34m)\u001b[0m\u001b[0;34m\u001b[0m\u001b[0;34m\u001b[0m\u001b[0m\n\u001b[1;32m      5\u001b[0m \u001b[0;32mawait\u001b[0m \u001b[0mpiplite\u001b[0m\u001b[0;34m.\u001b[0m\u001b[0minstall\u001b[0m\u001b[0;34m(\u001b[0m\u001b[0;34m\"ipympl\"\u001b[0m\u001b[0;34m)\u001b[0m\u001b[0;34m\u001b[0m\u001b[0;34m\u001b[0m\u001b[0m\n",
      "\u001b[0;31mModuleNotFoundError\u001b[0m: No module named 'piplite'"
     ]
    }
   ],
   "source": [
    "import numpy as np\n",
    "import matplotlib.pyplot as plt\n",
    "import piplite\n",
    "await piplite.install(\"ipywidgets\")\n",
    "await piplite.install(\"ipympl\")\n",
    "import ipywidgets as widgets\n",
    "%matplotlib widget\n",
    "%matplotlib inline\n",
    "\n",
    "# Define the function that we are interested in\n",
    "def sixhump(x, y):\n",
    "    return ((4 - 2.1*x**2 + x**4 / 3.) * x**2 + x * y\n",
    "            + (-4 + 4*y**2) )\n",
    "\n",
    "x = np.linspace(-2, 2)\n",
    "y = np.linspace(-1, 1)\n",
    "xg, yg = np.meshgrid(x, y)\n",
    "\n",
    "N=0.1\n",
    "@widgets.interact(x=(-2, 2, N), y=(-1, 1, N))\n",
    "def create_scatter(x=-2, y=-1):\n",
    "    \n",
    "    \n",
    "    fig, ax = plt.subplots(subplot_kw={\"projection\": \"3d\"}, figsize=(7,10))\n",
    "\n",
    "    # Plot the surface.\n",
    "    surf = ax.plot_surface(xg, yg, sixhump(xg, yg), cmap=cm.coolwarm,\n",
    "                           linewidth=0, antialiased=False, alpha=0.4, zorder=1)\n",
    "\n",
    "    ax.scatter(x, y, sixhump(x, y), s=80, c=\"red\", zorder=2)\n",
    "\n",
    "    # rotate the axes and update\n",
    "\n",
    "    ax.view_init(15,120)\n",
    "    \n",
    "    plt.title(\"x=%.2f, y=%.2f, f(x,y)=%.2f\"%(x, y, sixhump(x, y)))\n",
    "\n",
    "    plt.show()"
   ]
  },
  {
   "cell_type": "code",
   "execution_count": null,
   "id": "9ba9acbd",
   "metadata": {},
   "outputs": [],
   "source": []
  }
 ],
 "metadata": {
  "kernelspec": {
   "display_name": "Python 3 (ipykernel)",
   "language": "python",
   "name": "python3"
  },
  "language_info": {
   "codemirror_mode": {
    "name": "ipython",
    "version": 3
   },
   "file_extension": ".py",
   "mimetype": "text/x-python",
   "name": "python",
   "nbconvert_exporter": "python",
   "pygments_lexer": "ipython3",
   "version": "3.9.0"
  }
 },
 "nbformat": 4,
 "nbformat_minor": 5
}
