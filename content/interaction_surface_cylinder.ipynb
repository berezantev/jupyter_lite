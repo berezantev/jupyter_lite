{
 "cells": [
  {
   "cell_type": "code",
   "execution_count": null,
   "id": "4dee17b0",
   "metadata": {},
   "outputs": [],
   "source": [
    "import piplite\n",
    "await piplite.install('ipywidgets')\n",
    "import ipywidgets as widgets\n",
    "from math import pi\n",
    "import ipywidgets as widgets\n",
    "\n",
    "def surface(R):\n",
    "    V=33 # 33cm3\n",
    "    surface = 2*V/R + 2*pi*(R**2)\n",
    "    print(f\"For a radius of {R:.3f} cm and given a volume of 33 cm3, the surface of the cylinder is {surface:.3f}\")\n",
    "    return surface"
   ]
  },
  {
   "cell_type": "code",
   "execution_count": null,
   "id": "8e940f83",
   "metadata": {},
   "outputs": [],
   "source": [
    "widgets.interactive(surface, R=(0.2,5,0.1))"
   ]
  },
  {
   "cell_type": "code",
   "execution_count": null,
   "id": "f6533947",
   "metadata": {},
   "outputs": [],
   "source": []
  }
 ],
 "metadata": {
  "kernelspec": {
   "display_name": "Python 3 (ipykernel)",
   "language": "python",
   "name": "python3"
  },
  "language_info": {
   "codemirror_mode": {
    "name": "ipython",
    "version": 3
   },
   "file_extension": ".py",
   "mimetype": "text/x-python",
   "name": "python",
   "nbconvert_exporter": "python",
   "pygments_lexer": "ipython3",
   "version": "3.9.15"
  }
 },
 "nbformat": 4,
 "nbformat_minor": 5
}
