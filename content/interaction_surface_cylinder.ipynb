{
 "cells": [
  {
   "cell_type": "code",
   "execution_count": 7,
   "source": [
    "import piplite\n",
    "await piplite.install('ipywidgets')\n",
    "import ipywidgets as widgets\n",
    "from math import pi\n",
    "import ipywidgets as widgets\n",
    "\n",
    "def surface(R, V):\n",
    "    surface = 2*V/R + 2*pi*(R**2)\n",
    "    print(f\"For a radius of {R:.3f} cm and given a volume of {V} cm3, the surface of the cylinder is {surface:.3f}\")\n",
    "    return surface"
   ],
   "outputs": [],
   "metadata": {}
  },
  {
   "cell_type": "code",
   "execution_count": 6,
   "source": [
    "widgets.interactive(surface, R=(0.2,5,0.1), V=(30,36,1))"
   ],
   "outputs": [
    {
     "output_type": "display_data",
     "data": {
      "application/vnd.jupyter.widget-view+json": {
       "model_id": "22bfa16aa4ed400baf7d41ccc3700615",
       "version_major": 2,
       "version_minor": 0
      },
      "text/plain": [
       "interactive(children=(FloatSlider(value=2.5000000000000004, description='R', max=5.0, min=0.2), IntSlider(valu…"
      ]
     },
     "metadata": {}
    }
   ],
   "metadata": {}
  },
  {
   "cell_type": "code",
   "execution_count": null,
   "source": [],
   "outputs": [],
   "metadata": {}
  }
 ],
 "metadata": {
  "kernelspec": {
   "display_name": "Python 3 (ipykernel)",
   "language": "python",
   "name": "python3"
  },
  "language_info": {
   "codemirror_mode": {
    "name": "ipython",
    "version": 3
   },
   "file_extension": ".py",
   "mimetype": "text/x-python",
   "name": "python",
   "nbconvert_exporter": "python",
   "pygments_lexer": "ipython3",
   "version": "3.9.15"
  }
 },
 "nbformat": 4,
 "nbformat_minor": 5
}